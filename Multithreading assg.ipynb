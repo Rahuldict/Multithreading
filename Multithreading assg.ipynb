{
 "cells": [
  {
   "cell_type": "code",
   "execution_count": 1,
   "id": "433f8c23-14c8-4fa6-9768-dc9209c110b8",
   "metadata": {},
   "outputs": [],
   "source": [
    "#Q1 = what is multithreading in python? hy is it used? Name the module used to handle threads in python"
   ]
  },
  {
   "cell_type": "code",
   "execution_count": null,
   "id": "556cac54-73e2-4d6e-a611-9f186a4ca423",
   "metadata": {},
   "outputs": [],
   "source": [
    "Multithreading in Python refers to the concurrent execution of multiple threads within the same process. A thread is a small unit of execution within a program, and multithreading allows a program to perform multiple tasks simultaneously, leveraging the capabilities of modern multi-core processors. Python provides a built-in threading module to handle threads and facilitate multithreading.\n",
    "Why is it used?\n",
    "Multithreading is used to achieve concurrent execution, which can improve the performance of certain types of applications. It is particularly beneficial for tasks that involve waiting for I/O operations (e.g., reading/writing files, network communication) or tasks that can be efficiently parallelized. By using threads, these tasks can be executed in parallel, potentially reducing the overall execution time of the program.\n",
    "\n",
    "Module used to handle threads in Python:\n",
    "The threading module is used to handle threads in Python. It provides a high-level interface for creating and managing threads and offers synchronization mechanisms for managing shared resources among threads."
   ]
  },
  {
   "cell_type": "code",
   "execution_count": 2,
   "id": "4fb79811-4561-427a-98f5-f736c68e5f16",
   "metadata": {},
   "outputs": [],
   "source": [
    "#Q 2. why threading module used? rite the use of the following functions\n",
    " #activeCount()\n",
    " #currentThread()\n",
    " #enumerate()"
   ]
  },
  {
   "cell_type": "code",
   "execution_count": 5,
   "id": "9072a1fa-46be-4eae-a621-7fb31b95f972",
   "metadata": {},
   "outputs": [
    {
     "name": "stdout",
     "output_type": "stream",
     "text": [
      "Thread is running.\n",
      "Thread is running.\n",
      "Number of active threads: 8\n"
     ]
    },
    {
     "name": "stderr",
     "output_type": "stream",
     "text": [
      "/tmp/ipykernel_1782/3353627645.py:16: DeprecationWarning: activeCount() is deprecated, use active_count() instead\n",
      "  num_active_threads = threading.activeCount()\n"
     ]
    }
   ],
   "source": [
    " #activeCount()\n",
    "import threading\n",
    "\n",
    "def worker():\n",
    "    print(\"Thread is running.\")\n",
    "\n",
    "# Create threads\n",
    "t1 = threading.Thread(target=worker)\n",
    "t2 = threading.Thread(target=worker)\n",
    "\n",
    "# Start threads\n",
    "t1.start()\n",
    "t2.start()\n",
    "\n",
    "# Get the number of active threads\n",
    "num_active_threads = threading.activeCount()\n",
    "print(\"Number of active threads:\", num_active_threads)\n"
   ]
  },
  {
   "cell_type": "code",
   "execution_count": 6,
   "id": "f12ce889-3381-41f1-ab45-0e89fd9a923f",
   "metadata": {},
   "outputs": [
    {
     "name": "stdout",
     "output_type": "stream",
     "text": [
      "Current Thread Name: Thread-9 (worker)\n"
     ]
    },
    {
     "name": "stderr",
     "output_type": "stream",
     "text": [
      "/tmp/ipykernel_1782/456890141.py:6: DeprecationWarning: currentThread() is deprecated, use current_thread() instead\n",
      "  current_thread = threading.currentThread()\n",
      "/tmp/ipykernel_1782/456890141.py:7: DeprecationWarning: getName() is deprecated, get the name attribute instead\n",
      "  print(\"Current Thread Name:\", current_thread.getName())\n"
     ]
    }
   ],
   "source": [
    "#currentThread()\n",
    "\n",
    "import threading\n",
    "\n",
    "def worker():\n",
    "    current_thread = threading.currentThread()\n",
    "    print(\"Current Thread Name:\", current_thread.getName())\n",
    "\n",
    "# Create a thread and start it\n",
    "t = threading.Thread(target=worker)\n",
    "t.start()\n"
   ]
  },
  {
   "cell_type": "code",
   "execution_count": 8,
   "id": "0e740be0-da79-4790-ac59-ee01fa25256f",
   "metadata": {},
   "outputs": [
    {
     "name": "stdout",
     "output_type": "stream",
     "text": [
      "Thread Name: MainThread\n",
      "Thread Name: IOPub\n",
      "Thread Name: Heartbeat\n",
      "Thread Name: Thread-3 (_watch_pipe_fd)\n",
      "Thread Name: Thread-4 (_watch_pipe_fd)\n",
      "Thread Name: Control\n",
      "Thread Name: IPythonHistorySavingThread\n",
      "Thread Name: Thread-2\n"
     ]
    },
    {
     "name": "stderr",
     "output_type": "stream",
     "text": [
      "/tmp/ipykernel_1782/3278074105.py:19: DeprecationWarning: getName() is deprecated, get the name attribute instead\n",
      "  print(\"Thread Name:\", thread.getName())\n"
     ]
    }
   ],
   "source": [
    " #enumerate()\n",
    "import threading\n",
    "\n",
    "def worker():\n",
    "    pass\n",
    "\n",
    "# Create threads\n",
    "t1 = threading.Thread(target=worker)\n",
    "t2 = threading.Thread(target=worker)\n",
    "\n",
    "# Start threads\n",
    "t1.start()\n",
    "t2.start()\n",
    "\n",
    "# Get a list of all active threads\n",
    "active_threads = threading.enumerate()\n",
    "\n",
    "for thread in active_threads:\n",
    "    print(\"Thread Name:\", thread.getName())\n",
    "\n",
    "# Wait for both threads to finish\n",
    "t1.join()\n",
    "t2.join()\n"
   ]
  },
  {
   "cell_type": "code",
   "execution_count": 9,
   "id": "ea19ce87-0e7f-436e-a971-f9ae153c5de9",
   "metadata": {},
   "outputs": [],
   "source": [
    "#Q3. Explain the following functions\n",
    "# run()\n",
    " #start()\n",
    " #join()\n",
    "# isAlive()"
   ]
  },
  {
   "cell_type": "code",
   "execution_count": 11,
   "id": "c0479ced-48e2-4a0d-b389-261dcdf2c279",
   "metadata": {},
   "outputs": [
    {
     "name": "stdout",
     "output_type": "stream",
     "text": [
      "Thread is running.\n"
     ]
    }
   ],
   "source": [
    "#run\n",
    "\n",
    "import threading\n",
    "\n",
    "class MyThread(threading.Thread):\n",
    "    def run(self):\n",
    "        print(\"Thread is running.\")\n",
    "\n",
    "# Create and start the custom thread\n",
    "t = MyThread()\n",
    "t.start()\n"
   ]
  },
  {
   "cell_type": "code",
   "execution_count": 12,
   "id": "58e9f158-65c0-4e9a-ae28-fc3e9602dee2",
   "metadata": {},
   "outputs": [
    {
     "name": "stdout",
     "output_type": "stream",
     "text": [
      "Thread is running.\n"
     ]
    }
   ],
   "source": [
    "#start\n",
    "import threading\n",
    "\n",
    "def worker():\n",
    "    print(\"Thread is running.\")\n",
    "\n",
    "# Create a thread and start it\n",
    "t = threading.Thread(target=worker)\n",
    "t.start()\n"
   ]
  },
  {
   "cell_type": "code",
   "execution_count": 13,
   "id": "3f869bbe-8d0e-4e5f-b090-8c432ca1e4f1",
   "metadata": {},
   "outputs": [
    {
     "name": "stdout",
     "output_type": "stream",
     "text": [
      "Thread is running.\n",
      "Main thread exiting.\n"
     ]
    }
   ],
   "source": [
    "#join\n",
    "\n",
    "import threading\n",
    "\n",
    "def worker():\n",
    "    print(\"Thread is running.\")\n",
    "\n",
    "# Create a thread and start it\n",
    "t = threading.Thread(target=worker)\n",
    "t.start()\n",
    "\n",
    "# Wait for the thread to finish before continuing further\n",
    "t.join()\n",
    "\n",
    "print(\"Main thread exiting.\")\n"
   ]
  },
  {
   "cell_type": "code",
   "execution_count": 16,
   "id": "12dbce97-8f06-4591-bcc8-fd73f21ca334",
   "metadata": {},
   "outputs": [
    {
     "name": "stdout",
     "output_type": "stream",
     "text": [
      "Thread is running.\n"
     ]
    },
    {
     "ename": "AttributeError",
     "evalue": "'Thread' object has no attribute 'isAlive'",
     "output_type": "error",
     "traceback": [
      "\u001b[0;31m---------------------------------------------------------------------------\u001b[0m",
      "\u001b[0;31mAttributeError\u001b[0m                            Traceback (most recent call last)",
      "Cell \u001b[0;32mIn[16], line 13\u001b[0m\n\u001b[1;32m     10\u001b[0m t\u001b[38;5;241m.\u001b[39mstart()\n\u001b[1;32m     12\u001b[0m \u001b[38;5;66;03m# Check if the thread is alive\u001b[39;00m\n\u001b[0;32m---> 13\u001b[0m \u001b[38;5;28;01mif\u001b[39;00m \u001b[43mt\u001b[49m\u001b[38;5;241;43m.\u001b[39;49m\u001b[43misAlive\u001b[49m():\n\u001b[1;32m     14\u001b[0m     \u001b[38;5;28mprint\u001b[39m(\u001b[38;5;124m\"\u001b[39m\u001b[38;5;124mThread is still running.\u001b[39m\u001b[38;5;124m\"\u001b[39m)\n\u001b[1;32m     15\u001b[0m \u001b[38;5;28;01melse\u001b[39;00m:\n",
      "\u001b[0;31mAttributeError\u001b[0m: 'Thread' object has no attribute 'isAlive'"
     ]
    }
   ],
   "source": [
    "#isAlive()\n",
    "\n",
    "import threading\n",
    "\n",
    "def worker():\n",
    "    print(\"Thread is running.\")\n",
    "\n",
    "# Create a thread and start it\n",
    "t = threading.Thread(target=worker)\n",
    "t.start()\n",
    "\n",
    "# Check if the thread is alive\n",
    "if t.isAlive():\n",
    "    print(\"Thread is still running.\")\n",
    "else:\n",
    "    print(\"Thread has finished its execution.\")\n"
   ]
  },
  {
   "cell_type": "code",
   "execution_count": 17,
   "id": "4b19b0c8-b1bd-470d-b009-b936acd7cfd5",
   "metadata": {},
   "outputs": [],
   "source": [
    "#4. write a python program to create two threads. Thread one must print the list of squares and thread two must print the list of cubes"
   ]
  },
  {
   "cell_type": "code",
   "execution_count": 18,
   "id": "f278176a-f0c0-49e3-a796-53a24c08abfc",
   "metadata": {},
   "outputs": [
    {
     "name": "stdout",
     "output_type": "stream",
     "text": [
      "List of squares: [1, 4, 9, 16, 25, 36, 49, 64, 81, 100]\n",
      "List of cubes: [1, 8, 27, 64, 125, 216, 343, 512, 729, 1000]\n",
      "Main thread exiting.\n"
     ]
    }
   ],
   "source": [
    "import threading\n",
    "\n",
    "def print_squares():\n",
    "    squares = [x * x for x in range(1, 11)]\n",
    "    print(\"List of squares:\", squares)\n",
    "\n",
    "def print_cubes():\n",
    "    cubes = [x * x * x for x in range(1, 11)]\n",
    "    print(\"List of cubes:\", cubes)\n",
    "\n",
    "if __name__ == \"__main__\":\n",
    "    # Create the threads\n",
    "    thread1 = threading.Thread(target=print_squares)\n",
    "    thread2 = threading.Thread(target=print_cubes)\n",
    "\n",
    "    # Start the threads\n",
    "    thread1.start()\n",
    "    thread2.start()\n",
    "\n",
    "    # Wait for both threads to finish\n",
    "    thread1.join()\n",
    "    thread2.join()\n",
    "\n",
    "    print(\"Main thread exiting.\")\n"
   ]
  },
  {
   "cell_type": "code",
   "execution_count": 19,
   "id": "2dd6fca0-a3e9-495f-9e63-6cb685bedd9a",
   "metadata": {},
   "outputs": [],
   "source": [
    "# Q5 State advantages and disadvantages of multithreading"
   ]
  },
  {
   "cell_type": "code",
   "execution_count": null,
   "id": "c9005e0c-d7d1-435e-a139-78616e1ca973",
   "metadata": {},
   "outputs": [],
   "source": [
    "Advantages of Multithreading:\n",
    "\n",
    "Improved Performance: Multithreading can lead to improved performance and responsiveness in certain types of applications. By utilizing multiple CPU cores, multiple tasks can be executed simultaneously, making better use of available resources.\n",
    "\n",
    "Concurrency and Responsiveness: Multithreading allows concurrent execution of tasks, making it ideal for applications that need to perform multiple operations simultaneously while remaining responsive to user interactions.\n",
    "\n",
    "Efficient Resource Utilization: Threads within the same process share the same memory space, which means they can easily share data and resources, leading to more efficient resource utilization.\n",
    "\n",
    "Simplified Design for Concurrent Operations: Some tasks, such as I/O-bound operations, can significantly benefit from multithreading without adding complexity to the code.\n",
    "\n",
    "Parallelism for CPU-Bound Tasks: In certain scenarios, where there are CPU-bound tasks, multithreading can achieve parallelism and improve performance, especially on multi-core processors."
   ]
  },
  {
   "cell_type": "code",
   "execution_count": null,
   "id": "64e28230-fb73-49ac-ae32-bd9324fc9892",
   "metadata": {},
   "outputs": [],
   "source": [
    "Disadvantages of Multithreading:\n",
    "\n",
    "Complexity and Difficulty in Debugging: Writing and maintaining multithreaded code can be complex due to the need for proper synchronization and coordination between threads. Debugging multithreaded programs can be challenging, as issues like race conditions and deadlocks may arise.\n",
    "\n",
    "Race Conditions: When multiple threads access shared resources concurrently without proper synchronization, race conditions can occur, leading to unpredictable behavior and bugs that are hard to reproduce and diagnose.\n",
    "\n",
    "Deadlocks: Deadlocks can occur when two or more threads are each waiting for a resource that is held by another thread, causing a situation where all threads are blocked and unable to proceed.\n",
    "\n",
    "Increased Memory Overhead: Each thread consumes additional memory for its own stack and bookkeeping, which can lead to increased memory overhead in multithreaded applications.\n",
    "\n",
    "Global Interpreter Lock (GIL) Limitations: In the CPython interpreter (the default Python interpreter), the Global Interpreter Lock (GIL) allows only one thread to execute Python bytecode at a time. This means that multithreading might not be as effective for CPU-bound tasks in multi-core environments.\n",
    "\n",
    "Thread Synchronization Overhead: Properly synchronizing shared resources among threads can introduce additional overhead and potentially reduce the benefits of parallel execution.\n",
    "\n",
    "In conclusion, multithreading can offer significant advantages in terms of performance and responsiveness in certain scenarios, but it also comes with challenges such as increased complexity and potential issues related to synchronization and concurrency. Careful design and consideration are necessary when implementing multithreading in order to avoid common pitfalls and achieve the desired benefits."
   ]
  },
  {
   "cell_type": "code",
   "execution_count": 20,
   "id": "848c01b1-cc16-4d22-958c-6d3ef0cf87ce",
   "metadata": {},
   "outputs": [],
   "source": [
    "#6. Explain deadlocks and race conditions."
   ]
  },
  {
   "cell_type": "code",
   "execution_count": null,
   "id": "386725e3-35c4-4865-8554-66237d891fe9",
   "metadata": {},
   "outputs": [],
   "source": []
  }
 ],
 "metadata": {
  "kernelspec": {
   "display_name": "Python 3 (ipykernel)",
   "language": "python",
   "name": "python3"
  },
  "language_info": {
   "codemirror_mode": {
    "name": "ipython",
    "version": 3
   },
   "file_extension": ".py",
   "mimetype": "text/x-python",
   "name": "python",
   "nbconvert_exporter": "python",
   "pygments_lexer": "ipython3",
   "version": "3.10.8"
  }
 },
 "nbformat": 4,
 "nbformat_minor": 5
}
